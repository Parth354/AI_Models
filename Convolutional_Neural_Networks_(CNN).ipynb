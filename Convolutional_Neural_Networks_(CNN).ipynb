{
  "nbformat": 4,
  "nbformat_minor": 0,
  "metadata": {
    "colab": {
      "provenance": [],
      "authorship_tag": "ABX9TyNs2MF0OGc4I08bFoKMjpys",
      "include_colab_link": true
    },
    "kernelspec": {
      "name": "python3",
      "display_name": "Python 3"
    },
    "language_info": {
      "name": "python"
    }
  },
  "cells": [
    {
      "cell_type": "markdown",
      "metadata": {
        "id": "view-in-github",
        "colab_type": "text"
      },
      "source": [
        "<a href=\"https://colab.research.google.com/github/Parth354/ML_Models/blob/main/Convolutional_Neural_Networks_(CNN).ipynb\" target=\"_parent\"><img src=\"https://colab.research.google.com/assets/colab-badge.svg\" alt=\"Open In Colab\"/></a>"
      ]
    },
    {
      "cell_type": "markdown",
      "source": [
        "### **Convolutional Neural Network**"
      ],
      "metadata": {
        "id": "_80FFvnS8yPt"
      }
    },
    {
      "cell_type": "markdown",
      "source": [
        "Importing the Libraries"
      ],
      "metadata": {
        "id": "m5irkInt-c0T"
      }
    },
    {
      "cell_type": "code",
      "execution_count": 1,
      "metadata": {
        "id": "NmjaxQ9U8meY"
      },
      "outputs": [],
      "source": [
        "import tensorflow as tf\n",
        "from keras.preprocessing.image import ImageDataGenerator"
      ]
    },
    {
      "cell_type": "markdown",
      "source": [
        "### **Part 1 : Data Preprocessing**"
      ],
      "metadata": {
        "id": "KKflDPNU8xfY"
      }
    },
    {
      "cell_type": "markdown",
      "source": [
        "Preprocessing the Training Set"
      ],
      "metadata": {
        "id": "TwVqfHly_Cic"
      }
    },
    {
      "cell_type": "code",
      "source": [
        "train_datagen=ImageDataGenerator(\n",
        "    rescale=1./255,\n",
        "    zoom_range=0.2,\n",
        "    shear_range=0.2,\n",
        "    horizontal_flip=True\n",
        ")\n",
        "training_set=train_datagen.flow_from_directory(\n",
        "    'dataset/training_set',\n",
        "    target_size=(64,64),\n",
        "    batch_size=32,\n",
        "    class_mode='binary'\n",
        ")"
      ],
      "metadata": {
        "id": "vxSNgfRn_HUa"
      },
      "execution_count": null,
      "outputs": []
    },
    {
      "cell_type": "markdown",
      "source": [
        "Preprocessing the Test Set"
      ],
      "metadata": {
        "id": "70i8v3ErE_-e"
      }
    },
    {
      "cell_type": "code",
      "source": [
        "test_datagen= ImageDataGenerator(rescale=1./255)\n",
        "test_set=test_datagen.flow_from_directory(\n",
        "    'dataset/test_set',\n",
        "    batch_size=32,\n",
        "    target_size=(64,64),\n",
        "    class_mode='binary'\n",
        ")"
      ],
      "metadata": {
        "id": "HptbXgExFFkw"
      },
      "execution_count": null,
      "outputs": []
    },
    {
      "cell_type": "markdown",
      "source": [
        "### **Part 2 : Building the CNN Model**"
      ],
      "metadata": {
        "id": "MTbxlegCFn16"
      }
    },
    {
      "cell_type": "markdown",
      "source": [
        "Intialise the CNN"
      ],
      "metadata": {
        "id": "ZCdQexxKFu4s"
      }
    },
    {
      "cell_type": "code",
      "source": [
        "cnn = tf.keras.models.Sequential()"
      ],
      "metadata": {
        "id": "xOJTP0f2FvaY"
      },
      "execution_count": 12,
      "outputs": []
    },
    {
      "cell_type": "markdown",
      "source": [
        "Adding the Convolutional Layer"
      ],
      "metadata": {
        "id": "_DIXMp5cGGX0"
      }
    },
    {
      "cell_type": "code",
      "source": [
        "cnn.add(tf.keras.layers.Conv2D(filters=32,kernel_size=3,activation='relu',input_shape=[64,64,3]))"
      ],
      "metadata": {
        "id": "eoCFBGNpGLA8"
      },
      "execution_count": 14,
      "outputs": []
    },
    {
      "cell_type": "markdown",
      "source": [
        "Pooling"
      ],
      "metadata": {
        "id": "bNYQY-PTHCaf"
      }
    },
    {
      "cell_type": "code",
      "source": [
        "cnn.add(tf.keras.layers.MaxPool2D(pool_size=2,strides=2))"
      ],
      "metadata": {
        "id": "lr2egGAlHSco"
      },
      "execution_count": 15,
      "outputs": []
    },
    {
      "cell_type": "markdown",
      "source": [
        "Adding the Second Convolutional Layer"
      ],
      "metadata": {
        "id": "YMKS5HJ-HEEd"
      }
    },
    {
      "cell_type": "code",
      "source": [
        "cnn.add(tf.keras.layers.Conv2D(filters=32,kernel_size=3,activation='relu'))\n",
        "cnn.add(tf.keras.layers.MaxPool2D(pool_size=2,strides=2))"
      ],
      "metadata": {
        "id": "8YJGPUohIalg"
      },
      "execution_count": 16,
      "outputs": []
    },
    {
      "cell_type": "markdown",
      "source": [
        "Step 3: Flattening"
      ],
      "metadata": {
        "id": "Qg9M8t6hI-fB"
      }
    },
    {
      "cell_type": "code",
      "source": [
        "cnn.add(tf.keras.layers.Flatten())"
      ],
      "metadata": {
        "id": "Bd6zBHbdI-JM"
      },
      "execution_count": 18,
      "outputs": []
    },
    {
      "cell_type": "markdown",
      "source": [
        "Step 4 : Complete Connection"
      ],
      "metadata": {
        "id": "8r4k0ysMJPkn"
      }
    },
    {
      "cell_type": "code",
      "source": [
        "cnn.add(tf.keras.layers.Dense(units=128,activation='relu'))"
      ],
      "metadata": {
        "id": "auZlvnfyI6dy"
      },
      "execution_count": 20,
      "outputs": []
    },
    {
      "cell_type": "markdown",
      "source": [
        "Output Layer"
      ],
      "metadata": {
        "id": "hIvZYOuXJkJZ"
      }
    },
    {
      "cell_type": "code",
      "source": [
        "cnn.add(tf.keras.layers.Dense(units=1,activation='sigmoid'))"
      ],
      "metadata": {
        "id": "Ic36Lr0nJmxy"
      },
      "execution_count": 21,
      "outputs": []
    },
    {
      "cell_type": "markdown",
      "source": [
        "### **Part 3: Training the CNN**"
      ],
      "metadata": {
        "id": "3I7aJfwFKCG6"
      }
    },
    {
      "cell_type": "markdown",
      "source": [
        "Compiling the CNN"
      ],
      "metadata": {
        "id": "KRcirSeRKKSU"
      }
    },
    {
      "cell_type": "code",
      "source": [
        "cnn.compile(optimizer='adam' , loss ='binary_crossentropy', metrics = ['accuracy'])"
      ],
      "metadata": {
        "id": "dkcm3xN8KMt6"
      },
      "execution_count": 22,
      "outputs": []
    },
    {
      "cell_type": "markdown",
      "source": [
        "Trainning the CNN on training set and Evaluating the test Set"
      ],
      "metadata": {
        "id": "X82Z2GlfKfbu"
      }
    },
    {
      "cell_type": "code",
      "source": [
        "cnn.fit(X=training_set,validation_data=test_set,epochs= 25)"
      ],
      "metadata": {
        "id": "omB52dRKKnpv"
      },
      "execution_count": null,
      "outputs": []
    },
    {
      "cell_type": "markdown",
      "source": [
        "### **Part 4: Predicting the Single Prediction**"
      ],
      "metadata": {
        "id": "Yu1IXeQHLrXM"
      }
    },
    {
      "cell_type": "code",
      "source": [
        "import numpy as np\n",
        "from keras.preprocessing import image\n",
        "test_image =image.load_img('dataset/single_prediction/cat_or_dog_1.jpg' , target_size=(64,64))\n",
        "test_image=image.img_to_array(test_image)\n",
        "test_img=np.expand_dims(test_image,axis=0)\n",
        "result=cnn.predict(test_image)\n",
        "training_set.class_indices\n",
        "if result[0][0]==1:\n",
        "  prediction='dog'\n",
        "else:\n",
        "  prediction='cat'\n",
        "print(prediction)"
      ],
      "metadata": {
        "id": "HZsWW_ZRKnmM"
      },
      "execution_count": null,
      "outputs": []
    },
    {
      "cell_type": "code",
      "source": [],
      "metadata": {
        "id": "TafBFlb8PC2b"
      },
      "execution_count": null,
      "outputs": []
    }
  ]
}